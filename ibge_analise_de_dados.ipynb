{
 "cells": [
  {
   "cell_type": "markdown",
   "id": "cf8f7a06",
   "metadata": {},
   "source": [
    "###### Autor: Pedro Garcez (pedroogarcez@usp.br)"
   ]
  },
  {
   "cell_type": "markdown",
   "id": "fbc1681e",
   "metadata": {},
   "source": [
    "# 1.Introdução"
   ]
  },
  {
   "cell_type": "markdown",
   "id": "2c166fc0",
   "metadata": {},
   "source": [
    "<div class = 'text-justify'>\n",
    "Para entender e inferir sobre características socioecômicas da população brasileira, iniciou-se no ano de 1967 a Pesquisa Nacional por Amostra de Domicílios (PNAD) desenvolvida anualmente pelo Instituto Brasileiro de Geografia e Estatística (IBGE). Através de diferentes indicadores, o principal objetivo é analisar as informações fornecidas pela pesquisa à curto, médio e longo prazo para efetivar decisões e acompanhar o desenolvimento do País. Dessa forma, simulando as abordagens estatísticas e descritivas necessárias para obtenção de resultados, o presente projeto visa abordar aspectos presentes na sociedade e responder perguntas como: </div>\n",
    "\n",
    "* Qual a renda média da população brasileira por cor?\n",
    "* Qual sexo possui maior anos de estudo?\n",
    "* Em qual idade a população brasileira possui maior renda?\n",
    "* A relação entre anos de estudos e renda ocorre de maneira diretamente proporcional na sociedade?\n",
    "\n",
    "<div class = 'text-justify'>\n",
    "O projeto será densenvolvido utilizando a linguagem de programação Python para realização de estatísticas contínuas e geração de gráficos para intepretação dos resultados.\n",
    "</div>"
   ]
  },
  {
   "cell_type": "markdown",
   "id": "a2b286cf",
   "metadata": {},
   "source": [
    "# 2. Variáveis"
   ]
  },
  {
   "cell_type": "markdown",
   "id": "94852bf1",
   "metadata": {},
   "source": [
    "**UF:** Estados onde cada entrevistado mora\\\n",
    "**Sexo:** 0: Masculino  1: Feminino \\\n",
    "**Idade:** Idade do entrevistado referenciada em anos \\\n",
    "**Cor:** Variedade de tons de pele identificado por cada indivíduo \\\n",
    "**Anos de estudo:** Referenciado de 1 a 17, sendo: 1: Sem instrumentação, 2: 1 ano de estudo, 3: 2 anos de estudos, ... , 17: Tempo de estudo indeterminado \\\n",
    "**Renda:** Salário mensal advindo do principal trabalho para entrevistados maiores de 10 anos. \\\n",
    "**Altura:** Referenciada em metros"
   ]
  },
  {
   "cell_type": "markdown",
   "id": "02a6492b",
   "metadata": {},
   "source": [
    "# 3. Bibliotecas utilizadas"
   ]
  },
  {
   "cell_type": "code",
   "execution_count": 103,
   "id": "cd05dacb",
   "metadata": {},
   "outputs": [],
   "source": [
    "import pandas as pd\n",
    "import numpy as np\n",
    "import matplotlib.pyplot as plt\n",
    "from plotnine import *\n",
    "from matplotlib import pyplot\n",
    "from matplotlib.gridspec import GridSpec"
   ]
  },
  {
   "cell_type": "markdown",
   "id": "dd774ec3",
   "metadata": {},
   "source": [
    "# 4. Importando e tratando dados"
   ]
  },
  {
   "cell_type": "code",
   "execution_count": 2,
   "id": "7e750aac",
   "metadata": {},
   "outputs": [
    {
     "data": {
      "text/html": [
       "<div>\n",
       "<style scoped>\n",
       "    .dataframe tbody tr th:only-of-type {\n",
       "        vertical-align: middle;\n",
       "    }\n",
       "\n",
       "    .dataframe tbody tr th {\n",
       "        vertical-align: top;\n",
       "    }\n",
       "\n",
       "    .dataframe thead th {\n",
       "        text-align: right;\n",
       "    }\n",
       "</style>\n",
       "<table border=\"1\" class=\"dataframe\">\n",
       "  <thead>\n",
       "    <tr style=\"text-align: right;\">\n",
       "      <th></th>\n",
       "      <th>UF</th>\n",
       "      <th>Sexo</th>\n",
       "      <th>Idade</th>\n",
       "      <th>Cor</th>\n",
       "      <th>Anos de Estudo</th>\n",
       "      <th>Renda</th>\n",
       "      <th>Altura</th>\n",
       "    </tr>\n",
       "  </thead>\n",
       "  <tbody>\n",
       "    <tr>\n",
       "      <th>0</th>\n",
       "      <td>11</td>\n",
       "      <td>0</td>\n",
       "      <td>23</td>\n",
       "      <td>8</td>\n",
       "      <td>12</td>\n",
       "      <td>800</td>\n",
       "      <td>1.603808</td>\n",
       "    </tr>\n",
       "    <tr>\n",
       "      <th>1</th>\n",
       "      <td>11</td>\n",
       "      <td>1</td>\n",
       "      <td>23</td>\n",
       "      <td>2</td>\n",
       "      <td>12</td>\n",
       "      <td>1150</td>\n",
       "      <td>1.739790</td>\n",
       "    </tr>\n",
       "    <tr>\n",
       "      <th>2</th>\n",
       "      <td>11</td>\n",
       "      <td>1</td>\n",
       "      <td>35</td>\n",
       "      <td>8</td>\n",
       "      <td>15</td>\n",
       "      <td>880</td>\n",
       "      <td>1.760444</td>\n",
       "    </tr>\n",
       "    <tr>\n",
       "      <th>3</th>\n",
       "      <td>11</td>\n",
       "      <td>0</td>\n",
       "      <td>46</td>\n",
       "      <td>2</td>\n",
       "      <td>6</td>\n",
       "      <td>3500</td>\n",
       "      <td>1.783158</td>\n",
       "    </tr>\n",
       "    <tr>\n",
       "      <th>4</th>\n",
       "      <td>11</td>\n",
       "      <td>1</td>\n",
       "      <td>47</td>\n",
       "      <td>8</td>\n",
       "      <td>9</td>\n",
       "      <td>150</td>\n",
       "      <td>1.690631</td>\n",
       "    </tr>\n",
       "  </tbody>\n",
       "</table>\n",
       "</div>"
      ],
      "text/plain": [
       "   UF  Sexo  Idade  Cor  Anos de Estudo  Renda    Altura\n",
       "0  11     0     23    8              12    800  1.603808\n",
       "1  11     1     23    2              12   1150  1.739790\n",
       "2  11     1     35    8              15    880  1.760444\n",
       "3  11     0     46    2               6   3500  1.783158\n",
       "4  11     1     47    8               9    150  1.690631"
      ]
     },
     "execution_count": 2,
     "metadata": {},
     "output_type": "execute_result"
    }
   ],
   "source": [
    "# Carregando o arquivo csv\n",
    "df = pd.read_csv('dados.csv',sep=',')\n",
    "df.head()"
   ]
  },
  {
   "cell_type": "markdown",
   "id": "fb65f736",
   "metadata": {},
   "source": [
    "##### 4.1 Lapidando e modificando alguns detalhes da planilha. "
   ]
  },
  {
   "cell_type": "code",
   "execution_count": 3,
   "id": "191ceda7",
   "metadata": {},
   "outputs": [],
   "source": [
    "# Adicionando colunas com variáveis qualitativas\n",
    "sexo_dic = {0:'Masculino',1:'Feminino'}\n",
    "df['sexo_str'] = df['Sexo'].map(sexo_dic)\n",
    "# -\n",
    "cor_dic = {0:'Indígena',2:'Branca',4:'Preta',6:'Amarela',8:'Parda',9:'Não declarado'}\n",
    "df['cor_str'] = df['Cor'].map(cor_dic)\n",
    "# -\n",
    "estado_int = df['UF'].value_counts().index.tolist()\n",
    "estado_str = ['SP','MG','RS','BA','RJ','PA','PR','PB','GO','CE','SC','AM','DF','MT','MA','RO','ES','MS','TO','SE','PB',\n",
    "           'PI','RN','AC','AL','RR','AP']\n",
    "estado_dic = dict(zip(estado_int,estado_str))\n",
    "df['estado_str'] = df['UF'].map(estado_dic)"
   ]
  },
  {
   "cell_type": "code",
   "execution_count": 4,
   "id": "1a65b2e5",
   "metadata": {},
   "outputs": [],
   "source": [
    "# Retirando o espaçamento presente na coluna Anos de Estudo\n",
    "df.columns = df.columns.str.replace(' ', '') "
   ]
  },
  {
   "cell_type": "code",
   "execution_count": 5,
   "id": "86bcb297",
   "metadata": {},
   "outputs": [],
   "source": [
    "# Formatando as casas decimais das colunas Renda e Altura\n",
    "pd.set_option('display.precision',2)"
   ]
  },
  {
   "cell_type": "code",
   "execution_count": 6,
   "id": "343af54e",
   "metadata": {},
   "outputs": [
    {
     "data": {
      "text/html": [
       "<div>\n",
       "<style scoped>\n",
       "    .dataframe tbody tr th:only-of-type {\n",
       "        vertical-align: middle;\n",
       "    }\n",
       "\n",
       "    .dataframe tbody tr th {\n",
       "        vertical-align: top;\n",
       "    }\n",
       "\n",
       "    .dataframe thead th {\n",
       "        text-align: right;\n",
       "    }\n",
       "</style>\n",
       "<table border=\"1\" class=\"dataframe\">\n",
       "  <thead>\n",
       "    <tr style=\"text-align: right;\">\n",
       "      <th></th>\n",
       "      <th>UF</th>\n",
       "      <th>Sexo</th>\n",
       "      <th>Idade</th>\n",
       "      <th>Cor</th>\n",
       "      <th>AnosdeEstudo</th>\n",
       "      <th>Renda</th>\n",
       "      <th>Altura</th>\n",
       "      <th>sexo_str</th>\n",
       "      <th>cor_str</th>\n",
       "      <th>estado_str</th>\n",
       "    </tr>\n",
       "  </thead>\n",
       "  <tbody>\n",
       "    <tr>\n",
       "      <th>0</th>\n",
       "      <td>11</td>\n",
       "      <td>0</td>\n",
       "      <td>23</td>\n",
       "      <td>8</td>\n",
       "      <td>12</td>\n",
       "      <td>800</td>\n",
       "      <td>1.60</td>\n",
       "      <td>Masculino</td>\n",
       "      <td>Parda</td>\n",
       "      <td>RO</td>\n",
       "    </tr>\n",
       "    <tr>\n",
       "      <th>1</th>\n",
       "      <td>11</td>\n",
       "      <td>1</td>\n",
       "      <td>23</td>\n",
       "      <td>2</td>\n",
       "      <td>12</td>\n",
       "      <td>1150</td>\n",
       "      <td>1.74</td>\n",
       "      <td>Feminino</td>\n",
       "      <td>Branca</td>\n",
       "      <td>RO</td>\n",
       "    </tr>\n",
       "    <tr>\n",
       "      <th>2</th>\n",
       "      <td>11</td>\n",
       "      <td>1</td>\n",
       "      <td>35</td>\n",
       "      <td>8</td>\n",
       "      <td>15</td>\n",
       "      <td>880</td>\n",
       "      <td>1.76</td>\n",
       "      <td>Feminino</td>\n",
       "      <td>Parda</td>\n",
       "      <td>RO</td>\n",
       "    </tr>\n",
       "    <tr>\n",
       "      <th>3</th>\n",
       "      <td>11</td>\n",
       "      <td>0</td>\n",
       "      <td>46</td>\n",
       "      <td>2</td>\n",
       "      <td>6</td>\n",
       "      <td>3500</td>\n",
       "      <td>1.78</td>\n",
       "      <td>Masculino</td>\n",
       "      <td>Branca</td>\n",
       "      <td>RO</td>\n",
       "    </tr>\n",
       "    <tr>\n",
       "      <th>4</th>\n",
       "      <td>11</td>\n",
       "      <td>1</td>\n",
       "      <td>47</td>\n",
       "      <td>8</td>\n",
       "      <td>9</td>\n",
       "      <td>150</td>\n",
       "      <td>1.69</td>\n",
       "      <td>Feminino</td>\n",
       "      <td>Parda</td>\n",
       "      <td>RO</td>\n",
       "    </tr>\n",
       "  </tbody>\n",
       "</table>\n",
       "</div>"
      ],
      "text/plain": [
       "   UF  Sexo  Idade  Cor  AnosdeEstudo  Renda  Altura   sexo_str cor_str  \\\n",
       "0  11     0     23    8            12    800    1.60  Masculino   Parda   \n",
       "1  11     1     23    2            12   1150    1.74   Feminino  Branca   \n",
       "2  11     1     35    8            15    880    1.76   Feminino   Parda   \n",
       "3  11     0     46    2             6   3500    1.78  Masculino  Branca   \n",
       "4  11     1     47    8             9    150    1.69   Feminino   Parda   \n",
       "\n",
       "  estado_str  \n",
       "0         RO  \n",
       "1         RO  \n",
       "2         RO  \n",
       "3         RO  \n",
       "4         RO  "
      ]
     },
     "execution_count": 6,
     "metadata": {},
     "output_type": "execute_result"
    }
   ],
   "source": [
    "df.head()"
   ]
  },
  {
   "cell_type": "markdown",
   "id": "d87ae19c",
   "metadata": {},
   "source": [
    "<div class = 'text-justify'>\n",
    "obs: Foram adicionadas novas colunas composta por variáveis qualitativas com o objetivo de facilitar a interpretação dos resultados, sem a necessidade de consultar o significado de cada número.\n",
    "</div>"
   ]
  },
  {
   "cell_type": "markdown",
   "id": "1bfbbf1c",
   "metadata": {},
   "source": [
    "# 5. Análise descritiva"
   ]
  },
  {
   "cell_type": "markdown",
   "id": "c3a3d6f0",
   "metadata": {},
   "source": [
    "##### 5.1 Analisando o corportamento dos estados do Brasil"
   ]
  },
  {
   "cell_type": "code",
   "execution_count": 7,
   "id": "5b351726",
   "metadata": {},
   "outputs": [
    {
     "data": {
      "image/png": "[encoded data removed]",
      "text/plain": [
       "<Figure size 1300x400 with 1 Axes>"
      ]
     },
     "metadata": {},
     "output_type": "display_data"
    }
   ],
   "source": [
    "plt.figure(figsize=(13,4))\n",
    "col_map = plt.get_cmap('Paired')\n",
    "df['estado_str'].value_counts().plot(kind='bar',color=col_map.colors,edgecolor='k')\n",
    "lista_freq_estados = df['UF'].value_counts().tolist()\n",
    "plt.xticks(rotation=45);\n",
    "plt.title('Respostas coletadas por estado')\n",
    "plt.ylabel('Frequência');"
   ]
  },
  {
   "cell_type": "code",
   "execution_count": 72,
   "id": "9d6f74e1",
   "metadata": {},
   "outputs": [
    {
     "data": {
      "text/html": [
       "<div>\n",
       "<style scoped>\n",
       "    .dataframe tbody tr th:only-of-type {\n",
       "        vertical-align: middle;\n",
       "    }\n",
       "\n",
       "    .dataframe tbody tr th {\n",
       "        vertical-align: top;\n",
       "    }\n",
       "\n",
       "    .dataframe thead th {\n",
       "        text-align: right;\n",
       "    }\n",
       "</style>\n",
       "<table border=\"1\" class=\"dataframe\">\n",
       "  <thead>\n",
       "    <tr style=\"text-align: right;\">\n",
       "      <th></th>\n",
       "      <th>AnosdeEstudo</th>\n",
       "    </tr>\n",
       "    <tr>\n",
       "      <th>estado_str</th>\n",
       "      <th></th>\n",
       "    </tr>\n",
       "  </thead>\n",
       "  <tbody>\n",
       "    <tr>\n",
       "      <th>DF</th>\n",
       "      <td>11.91</td>\n",
       "    </tr>\n",
       "    <tr>\n",
       "      <th>SP</th>\n",
       "      <td>10.64</td>\n",
       "    </tr>\n",
       "    <tr>\n",
       "      <th>RJ</th>\n",
       "      <td>10.55</td>\n",
       "    </tr>\n",
       "    <tr>\n",
       "      <th>SC</th>\n",
       "      <td>10.23</td>\n",
       "    </tr>\n",
       "    <tr>\n",
       "      <th>RS</th>\n",
       "      <td>10.10</td>\n",
       "    </tr>\n",
       "  </tbody>\n",
       "</table>\n",
       "</div>"
      ],
      "text/plain": [
       "            AnosdeEstudo\n",
       "estado_str              \n",
       "DF                 11.91\n",
       "SP                 10.64\n",
       "RJ                 10.55\n",
       "SC                 10.23\n",
       "RS                 10.10"
      ]
     },
     "execution_count": 72,
     "metadata": {},
     "output_type": "execute_result"
    }
   ],
   "source": [
    "# Analisando os estados com maiores médias de anos de estudo \n",
    "df[['estado_str','AnosdeEstudo']].groupby('estado_str').agg('mean').sort_values(by='AnosdeEstudo', ascending=False).head(5)"
   ]
  },
  {
   "cell_type": "code",
   "execution_count": 98,
   "id": "fda2ede7",
   "metadata": {},
   "outputs": [
    {
     "data": {
      "text/html": [
       "<div>\n",
       "<style scoped>\n",
       "    .dataframe tbody tr th:only-of-type {\n",
       "        vertical-align: middle;\n",
       "    }\n",
       "\n",
       "    .dataframe tbody tr th {\n",
       "        vertical-align: top;\n",
       "    }\n",
       "\n",
       "    .dataframe thead th {\n",
       "        text-align: right;\n",
       "    }\n",
       "</style>\n",
       "<table border=\"1\" class=\"dataframe\">\n",
       "  <thead>\n",
       "    <tr style=\"text-align: right;\">\n",
       "      <th></th>\n",
       "      <th>Renda</th>\n",
       "    </tr>\n",
       "    <tr>\n",
       "      <th>estado_str</th>\n",
       "      <th></th>\n",
       "    </tr>\n",
       "  </thead>\n",
       "  <tbody>\n",
       "    <tr>\n",
       "      <th>DF</th>\n",
       "      <td>4241.95</td>\n",
       "    </tr>\n",
       "    <tr>\n",
       "      <th>SP</th>\n",
       "      <td>2638.10</td>\n",
       "    </tr>\n",
       "    <tr>\n",
       "      <th>RJ</th>\n",
       "      <td>2496.40</td>\n",
       "    </tr>\n",
       "    <tr>\n",
       "      <th>PR</th>\n",
       "      <td>2493.87</td>\n",
       "    </tr>\n",
       "    <tr>\n",
       "      <th>SC</th>\n",
       "      <td>2470.85</td>\n",
       "    </tr>\n",
       "    <tr>\n",
       "      <th>RS</th>\n",
       "      <td>2315.16</td>\n",
       "    </tr>\n",
       "  </tbody>\n",
       "</table>\n",
       "</div>"
      ],
      "text/plain": [
       "              Renda\n",
       "estado_str         \n",
       "DF          4241.95\n",
       "SP          2638.10\n",
       "RJ          2496.40\n",
       "PR          2493.87\n",
       "SC          2470.85\n",
       "RS          2315.16"
      ]
     },
     "execution_count": 98,
     "metadata": {},
     "output_type": "execute_result"
    }
   ],
   "source": [
    "# Analisando os estados com maiores médias de renda\n",
    "df[['estado_str','Renda']].groupby('estado_str').agg('mean').sort_values(by='Renda', ascending=False).head(6)"
   ]
  },
  {
   "cell_type": "code",
   "execution_count": 78,
   "id": "186dcdfd",
   "metadata": {},
   "outputs": [
    {
     "data": {
      "text/html": [
       "<div>\n",
       "<style scoped>\n",
       "    .dataframe tbody tr th:only-of-type {\n",
       "        vertical-align: middle;\n",
       "    }\n",
       "\n",
       "    .dataframe tbody tr th {\n",
       "        vertical-align: top;\n",
       "    }\n",
       "\n",
       "    .dataframe thead th {\n",
       "        text-align: right;\n",
       "    }\n",
       "</style>\n",
       "<table border=\"1\" class=\"dataframe\">\n",
       "  <thead>\n",
       "    <tr style=\"text-align: right;\">\n",
       "      <th></th>\n",
       "      <th>AnosdeEstudo</th>\n",
       "    </tr>\n",
       "    <tr>\n",
       "      <th>estado_str</th>\n",
       "      <th></th>\n",
       "    </tr>\n",
       "  </thead>\n",
       "  <tbody>\n",
       "    <tr>\n",
       "      <th>PI</th>\n",
       "      <td>7.01</td>\n",
       "    </tr>\n",
       "    <tr>\n",
       "      <th>SE</th>\n",
       "      <td>7.34</td>\n",
       "    </tr>\n",
       "    <tr>\n",
       "      <th>MA</th>\n",
       "      <td>7.52</td>\n",
       "    </tr>\n",
       "    <tr>\n",
       "      <th>AL</th>\n",
       "      <td>7.84</td>\n",
       "    </tr>\n",
       "    <tr>\n",
       "      <th>AC</th>\n",
       "      <td>8.40</td>\n",
       "    </tr>\n",
       "  </tbody>\n",
       "</table>\n",
       "</div>"
      ],
      "text/plain": [
       "            AnosdeEstudo\n",
       "estado_str              \n",
       "PI                  7.01\n",
       "SE                  7.34\n",
       "MA                  7.52\n",
       "AL                  7.84\n",
       "AC                  8.40"
      ]
     },
     "execution_count": 78,
     "metadata": {},
     "output_type": "execute_result"
    }
   ],
   "source": [
    "# Analisando os estados com menores médias de anos de estudo\n",
    "df[['estado_str','AnosdeEstudo']].groupby('estado_str').agg('mean').sort_values(by='AnosdeEstudo', ascending=True).head(5)"
   ]
  },
  {
   "cell_type": "code",
   "execution_count": 92,
   "id": "6d8d8402",
   "metadata": {},
   "outputs": [
    {
     "data": {
      "text/html": [
       "<div>\n",
       "<style scoped>\n",
       "    .dataframe tbody tr th:only-of-type {\n",
       "        vertical-align: middle;\n",
       "    }\n",
       "\n",
       "    .dataframe tbody tr th {\n",
       "        vertical-align: top;\n",
       "    }\n",
       "\n",
       "    .dataframe thead th {\n",
       "        text-align: right;\n",
       "    }\n",
       "</style>\n",
       "<table border=\"1\" class=\"dataframe\">\n",
       "  <thead>\n",
       "    <tr style=\"text-align: right;\">\n",
       "      <th></th>\n",
       "      <th>Renda</th>\n",
       "    </tr>\n",
       "    <tr>\n",
       "      <th>estado_str</th>\n",
       "      <th></th>\n",
       "    </tr>\n",
       "  </thead>\n",
       "  <tbody>\n",
       "    <tr>\n",
       "      <th>MA</th>\n",
       "      <td>1019.43</td>\n",
       "    </tr>\n",
       "    <tr>\n",
       "      <th>PI</th>\n",
       "      <td>1074.55</td>\n",
       "    </tr>\n",
       "    <tr>\n",
       "      <th>SE</th>\n",
       "      <td>1109.11</td>\n",
       "    </tr>\n",
       "    <tr>\n",
       "      <th>AL</th>\n",
       "      <td>1144.55</td>\n",
       "    </tr>\n",
       "    <tr>\n",
       "      <th>CE</th>\n",
       "      <td>1255.40</td>\n",
       "    </tr>\n",
       "  </tbody>\n",
       "</table>\n",
       "</div>"
      ],
      "text/plain": [
       "              Renda\n",
       "estado_str         \n",
       "MA          1019.43\n",
       "PI          1074.55\n",
       "SE          1109.11\n",
       "AL          1144.55\n",
       "CE          1255.40"
      ]
     },
     "execution_count": 92,
     "metadata": {},
     "output_type": "execute_result"
    }
   ],
   "source": [
    "# # Analisando os estados com menores médias de renda\n",
    "df[['estado_str','Renda']].groupby('estado_str').agg('mean').sort_values(by='Renda', ascending=True).head(5)"
   ]
  },
  {
   "cell_type": "code",
   "execution_count": 118,
   "id": "af56c408",
   "metadata": {},
   "outputs": [],
   "source": [
    "'''pyplot.scatter([11.91,10.64,10.55,10.23,10.10],[4241.95,2638.1,2496.4,2493.87,2315.16])\n",
    "pyplot.xlabel('Anos de estudo médio');\n",
    "pyplot.ylabel('Renda média')\n",
    "pyplot.title('Relação salário x índice de instrução por estado');'''\n",
    "\n",
    "x = [11.91,10.64,10.55,10.23,10.10]\n",
    "y = [4241.95,2638.1,2496.4,2493.87,2315.16]"
   ]
  },
  {
   "cell_type": "code",
   "execution_count": 125,
   "id": "296ef5eb",
   "metadata": {},
   "outputs": [
    {
     "data": {
      "image/png": "[encoded data removed]",
      "text/plain": [
       "<Figure size 1000x300 with 2 Axes>"
      ]
     },
     "metadata": {},
     "output_type": "display_data"
    }
   ],
   "source": [
    "fig,axs = plt.subplots(figsize=(10,3),nrows=1,ncols=2)\n",
    "axs[0].plot(x,y,'o')\n",
    "axs[1]\n",
    "plt.show()"
   ]
  },
  {
   "cell_type": "markdown",
   "id": "c771c1bc",
   "metadata": {},
   "source": [
    "<div class = 'text-justify'>\n",
    "Em relação aos anos de estudos, é possivel observar as menores médias presentes na região Nordeste, em ressalva do Acre. Esses resultados são consequências da alta taxa de analfabetismo gerada pelo alto índice de evasão escolar presentes na região. Em contrapartida, os maiores índices estão distibruídos desde estados da região central até a parte Sul do País. Por último, comparando cada grupo, é possível identificar uma relação direta entre os resultados: enquanto a população de estados com maior média salarial possui maior índice de instrução, habitantes de regiões com menor salário possuem menos anos de estudo.\n",
    "    </div>"
   ]
  },
  {
   "cell_type": "markdown",
   "id": "4d589666",
   "metadata": {},
   "source": [
    "##### 5.2 Comparando os anos de estudos entre Homens e Mulheres"
   ]
  },
  {
   "cell_type": "code",
   "execution_count": 8,
   "id": "de776e44",
   "metadata": {},
   "outputs": [
    {
     "data": {
      "text/html": [
       "<div>\n",
       "<style scoped>\n",
       "    .dataframe tbody tr th:only-of-type {\n",
       "        vertical-align: middle;\n",
       "    }\n",
       "\n",
       "    .dataframe tbody tr th {\n",
       "        vertical-align: top;\n",
       "    }\n",
       "\n",
       "    .dataframe thead tr th {\n",
       "        text-align: left;\n",
       "    }\n",
       "\n",
       "    .dataframe thead tr:last-of-type th {\n",
       "        text-align: right;\n",
       "    }\n",
       "</style>\n",
       "<table border=\"1\" class=\"dataframe\">\n",
       "  <thead>\n",
       "    <tr>\n",
       "      <th></th>\n",
       "      <th colspan=\"4\" halign=\"left\">AnosdeEstudo</th>\n",
       "    </tr>\n",
       "    <tr>\n",
       "      <th></th>\n",
       "      <th>mean</th>\n",
       "      <th>median</th>\n",
       "      <th>var</th>\n",
       "      <th>std</th>\n",
       "    </tr>\n",
       "    <tr>\n",
       "      <th>sexo_str</th>\n",
       "      <th></th>\n",
       "      <th></th>\n",
       "      <th></th>\n",
       "      <th></th>\n",
       "    </tr>\n",
       "  </thead>\n",
       "  <tbody>\n",
       "    <tr>\n",
       "      <th>Feminino</th>\n",
       "      <td>10.26</td>\n",
       "      <td>12.0</td>\n",
       "      <td>19.69</td>\n",
       "      <td>4.44</td>\n",
       "    </tr>\n",
       "    <tr>\n",
       "      <th>Masculino</th>\n",
       "      <td>9.12</td>\n",
       "      <td>9.0</td>\n",
       "      <td>20.62</td>\n",
       "      <td>4.54</td>\n",
       "    </tr>\n",
       "  </tbody>\n",
       "</table>\n",
       "</div>"
      ],
      "text/plain": [
       "          AnosdeEstudo                    \n",
       "                  mean median    var   std\n",
       "sexo_str                                  \n",
       "Feminino         10.26   12.0  19.69  4.44\n",
       "Masculino         9.12    9.0  20.62  4.54"
      ]
     },
     "execution_count": 8,
     "metadata": {},
     "output_type": "execute_result"
    }
   ],
   "source": [
    "df[['sexo_str','AnosdeEstudo']].groupby('sexo_str').agg(['mean','median','var','std'])"
   ]
  },
  {
   "cell_type": "code",
   "execution_count": 9,
   "id": "d7f85756",
   "metadata": {},
   "outputs": [
    {
     "data": {
      "image/png": "[encoded data removed]",
      "text/plain": [
       "<Figure size 640x480 with 1 Axes>"
      ]
     },
     "metadata": {
      "needs_background": "light"
     },
     "output_type": "display_data"
    },
    {
     "data": {
      "text/plain": [
       "<ggplot: (115391396223)>"
      ]
     },
     "execution_count": 9,
     "metadata": {},
     "output_type": "execute_result"
    }
   ],
   "source": [
    "(ggplot(df, aes(x = \"sexo_str\",\n",
    "                  y = \"AnosdeEstudo\",\n",
    "                  fill = \"sexo_str\")) +\n",
    " theme_minimal() +\n",
    " labs(x='',fill='Sexo',y='Anos de estudo') +\n",
    " geom_boxplot())"
   ]
  },
  {
   "cell_type": "markdown",
   "id": "00fa0cda",
   "metadata": {},
   "source": [
    "<div class = text-justify>\n",
    "Analisando os boxplots, é possível notar as semelhantes variabilidades entre os dois grupos. Além disso, observa-se que as mulheres possuem maior empenho nos estudos quando comparadas aos homens, devido os resultados de quartis superiores. \n",
    " </div>"
   ]
  },
  {
   "cell_type": "markdown",
   "id": "0951bbb4",
   "metadata": {},
   "source": [
    "##### 5.3 Analisando a distribuição de renda "
   ]
  },
  {
   "cell_type": "code",
   "execution_count": 10,
   "id": "b747895d",
   "metadata": {},
   "outputs": [
    {
     "data": {
      "text/html": [
       "<div>\n",
       "<style scoped>\n",
       "    .dataframe tbody tr th:only-of-type {\n",
       "        vertical-align: middle;\n",
       "    }\n",
       "\n",
       "    .dataframe tbody tr th {\n",
       "        vertical-align: top;\n",
       "    }\n",
       "\n",
       "    .dataframe thead tr th {\n",
       "        text-align: left;\n",
       "    }\n",
       "\n",
       "    .dataframe thead tr:last-of-type th {\n",
       "        text-align: right;\n",
       "    }\n",
       "</style>\n",
       "<table border=\"1\" class=\"dataframe\">\n",
       "  <thead>\n",
       "    <tr>\n",
       "      <th></th>\n",
       "      <th colspan=\"2\" halign=\"left\">Renda</th>\n",
       "    </tr>\n",
       "    <tr>\n",
       "      <th></th>\n",
       "      <th>mean</th>\n",
       "      <th>std</th>\n",
       "    </tr>\n",
       "    <tr>\n",
       "      <th>sexo_str</th>\n",
       "      <th></th>\n",
       "      <th></th>\n",
       "    </tr>\n",
       "  </thead>\n",
       "  <tbody>\n",
       "    <tr>\n",
       "      <th>Feminino</th>\n",
       "      <td>1566.85</td>\n",
       "      <td>2570.66</td>\n",
       "    </tr>\n",
       "    <tr>\n",
       "      <th>Masculino</th>\n",
       "      <td>2192.44</td>\n",
       "      <td>3590.31</td>\n",
       "    </tr>\n",
       "  </tbody>\n",
       "</table>\n",
       "</div>"
      ],
      "text/plain": [
       "             Renda         \n",
       "              mean      std\n",
       "sexo_str                   \n",
       "Feminino   1566.85  2570.66\n",
       "Masculino  2192.44  3590.31"
      ]
     },
     "execution_count": 10,
     "metadata": {},
     "output_type": "execute_result"
    }
   ],
   "source": [
    "# Agrupando as colunas Renda e Sexo para comparar o salário mensal entre Homens e Mulheres.\n",
    "df[['sexo_str','Renda']].groupby('sexo_str').agg(['mean','std'])"
   ]
  },
  {
   "cell_type": "code",
   "execution_count": 21,
   "id": "2505414d",
   "metadata": {},
   "outputs": [
    {
     "data": {
      "image/png": "[encoded data removed]",
      "text/plain": [
       "<Figure size 640x480 with 1 Axes>"
      ]
     },
     "metadata": {},
     "output_type": "display_data"
    },
    {
     "data": {
      "text/plain": [
       "<ggplot: (115393903108)>"
      ]
     },
     "execution_count": 21,
     "metadata": {},
     "output_type": "execute_result"
    }
   ],
   "source": [
    "(ggplot(df, aes(x = \"sexo_str\", y = \"Renda\")) +\n",
    "  geom_point()+\n",
    " labs(x='',y='Renda (R$)',title='Dot plot: Renda de homens e mulheres '))"
   ]
  },
  {
   "cell_type": "code",
   "execution_count": 12,
   "id": "f1912b7b",
   "metadata": {},
   "outputs": [],
   "source": [
    "# Analisando as medidas de posição e dispersão referentes a variável Renda\n",
    "media = np.mean(df['Renda'])\n",
    "mediana = np.median(df['Renda'])\n",
    "variancia = np.var(df['Renda'])\n",
    "desv_pad = np.std(df['Renda'])"
   ]
  },
  {
   "cell_type": "markdown",
   "id": "d137baa1",
   "metadata": {},
   "source": [
    "Medidas      | Renda \n",
    "------- | -----\n",
    "Média   | 2000,38\n",
    "Mediana | 1200,00\n",
    "Variância | 11044762,26\n",
    "Desvio Padrão | 3323,36\n"
   ]
  },
  {
   "cell_type": "markdown",
   "id": "63994499",
   "metadata": {},
   "source": [
    "<div class = 'text-justify'>\n",
    "A partir do gráfico acima, é possível observar a presença de salários superiores para entrevistados do sexo Masculino, com valores discrepantes também acima dos informados por pessoas do sexo Feminino. Além disso, nota-se a dispersão de renda para ambos os gêneros como evidente na tabela, possibilitando concluir sobre casos de desigualdade sociais e heterogeneidade de salários presentes na sociedade.\n",
    "\n",
    "</div>    "
   ]
  },
  {
   "cell_type": "code",
   "execution_count": 13,
   "id": "f36672e1",
   "metadata": {},
   "outputs": [
    {
     "data": {
      "text/html": [
       "<div>\n",
       "<style scoped>\n",
       "    .dataframe tbody tr th:only-of-type {\n",
       "        vertical-align: middle;\n",
       "    }\n",
       "\n",
       "    .dataframe tbody tr th {\n",
       "        vertical-align: top;\n",
       "    }\n",
       "\n",
       "    .dataframe thead tr th {\n",
       "        text-align: left;\n",
       "    }\n",
       "\n",
       "    .dataframe thead tr:last-of-type th {\n",
       "        text-align: right;\n",
       "    }\n",
       "</style>\n",
       "<table border=\"1\" class=\"dataframe\">\n",
       "  <thead>\n",
       "    <tr>\n",
       "      <th></th>\n",
       "      <th colspan=\"3\" halign=\"left\">Renda</th>\n",
       "    </tr>\n",
       "    <tr>\n",
       "      <th></th>\n",
       "      <th>min</th>\n",
       "      <th>mean</th>\n",
       "      <th>max</th>\n",
       "    </tr>\n",
       "    <tr>\n",
       "      <th>cor_str</th>\n",
       "      <th></th>\n",
       "      <th></th>\n",
       "      <th></th>\n",
       "    </tr>\n",
       "  </thead>\n",
       "  <tbody>\n",
       "    <tr>\n",
       "      <th>Amarela</th>\n",
       "      <td>0</td>\n",
       "      <td>4182.92</td>\n",
       "      <td>50000</td>\n",
       "    </tr>\n",
       "    <tr>\n",
       "      <th>Branca</th>\n",
       "      <td>0</td>\n",
       "      <td>2679.02</td>\n",
       "      <td>200000</td>\n",
       "    </tr>\n",
       "    <tr>\n",
       "      <th>Indígena</th>\n",
       "      <td>0</td>\n",
       "      <td>1472.89</td>\n",
       "      <td>120000</td>\n",
       "    </tr>\n",
       "    <tr>\n",
       "      <th>Parda</th>\n",
       "      <td>0</td>\n",
       "      <td>1513.60</td>\n",
       "      <td>100000</td>\n",
       "    </tr>\n",
       "    <tr>\n",
       "      <th>Preta</th>\n",
       "      <td>0</td>\n",
       "      <td>1442.29</td>\n",
       "      <td>50000</td>\n",
       "    </tr>\n",
       "  </tbody>\n",
       "</table>\n",
       "</div>"
      ],
      "text/plain": [
       "         Renda                 \n",
       "           min     mean     max\n",
       "cor_str                        \n",
       "Amarela      0  4182.92   50000\n",
       "Branca       0  2679.02  200000\n",
       "Indígena     0  1472.89  120000\n",
       "Parda        0  1513.60  100000\n",
       "Preta        0  1442.29   50000"
      ]
     },
     "execution_count": 13,
     "metadata": {},
     "output_type": "execute_result"
    }
   ],
   "source": [
    "# # Agrupando as colunas Renda e Cor de pele para comparar o salário mensal entre cada uma das 5 cores presentes na tabela.\n",
    "df[['cor_str','Renda']].groupby('cor_str').agg(['min','mean','max'])"
   ]
  },
  {
   "cell_type": "code",
   "execution_count": 14,
   "id": "971c198e",
   "metadata": {
    "scrolled": true
   },
   "outputs": [
    {
     "data": {
      "image/png": "[encoded data removed]",
      "text/plain": [
       "<Figure size 640x480 with 1 Axes>"
      ]
     },
     "metadata": {},
     "output_type": "display_data"
    }
   ],
   "source": [
    "col_map = plt.get_cmap('Paired')\n",
    "df[['cor_str','Renda']].groupby('cor_str').agg('mean').plot(kind='bar',color=col_map.colors,edgecolor='k')\n",
    "plt.xticks(rotation=45)\n",
    "plt.xlabel('')\n",
    "plt.ylabel('Renda mensal média (R$)')\n",
    "plt.title('Renda mensal média por cor de pele');\n",
    "media_renda_cor = [4182.92,2679.02,1472.89,1513.6,1442.29]\n",
    "for i in range(len(media_renda_cor)):\n",
    "    plt.text(i,media_renda_cor[i],media_renda_cor[i],ha='center',va='bottom')"
   ]
  },
  {
   "cell_type": "code",
   "execution_count": 15,
   "id": "8ace2f21",
   "metadata": {},
   "outputs": [
    {
     "data": {
      "image/png": "[encoded data removed]",
      "text/plain": [
       "<Figure size 640x480 with 5 Axes>"
      ]
     },
     "metadata": {},
     "output_type": "display_data"
    },
    {
     "data": {
      "text/plain": [
       "<ggplot: (115394912762)>"
      ]
     },
     "execution_count": 15,
     "metadata": {},
     "output_type": "execute_result"
    }
   ],
   "source": [
    "(ggplot(df) +\n",
    "  geom_point(aes(x = \"sexo_str\", y = \"Renda\"))+\n",
    "  facet_grid(\"~cor_str\") +\n",
    "  theme(axis_text_x  = element_text(angle = 45, hjust = 1))+\n",
    "  labs(x = '')) "
   ]
  },
  {
   "cell_type": "markdown",
   "id": "0ce37a98",
   "metadata": {},
   "source": [
    "Em relação a renda de grupos com diferentes cores de pele especificados, a ordem de salário médio se faz por: Amarela, Branca, Parda, Indígena e Preta."
   ]
  },
  {
   "cell_type": "markdown",
   "id": "925dfd65",
   "metadata": {},
   "source": [
    "# 6. Conclusões"
   ]
  },
  {
   "cell_type": "markdown",
   "id": "16758f66",
   "metadata": {},
   "source": [
    "# 7. Agradecimentos"
   ]
  },
  {
   "cell_type": "markdown",
   "id": "8280bc42",
   "metadata": {},
   "source": [
    "<div class = 'text-justify'>\n",
    "A professora Bruna Garbes, que durante as aulas esteve disponível para me auxiliar e compartilhar seus conhecimentos relacionados ao tema de estudo. <br />\n",
    " Aos orientadores da matéria, responsáveis por sanar minhas dúvidas e capacitar a consolidação de minhas ideias no presente trabalho.\n",
    "</div>"
   ]
  },
  {
   "cell_type": "markdown",
   "id": "760e84b9",
   "metadata": {},
   "source": [
    "# 8. Referências\n",
    "#### [1. Kaggle (Data download): Statistical Analysis | Descriptive Statistics-BR](https://www.kaggle.com/code/upadorprofzs/statistical-analysis-descriptive-statistics-br/notebook) \n",
    "#### [2. GGplot2: Modify axis, legend, and plot labels](https://ggplot2.tidyverse.org/reference/labs.html)\n",
    "#### [3. Youtube: How to add value labels on a matplotlib bar chart (above each bar) in Python](https://www.youtube.com/watch?v=O_5kf_Kb684)"
   ]
  }
 ],
 "metadata": {
  "kernelspec": {
   "display_name": "Python 3 (ipykernel)",
   "language": "python",
   "name": "python3"
  },
  "language_info": {
   "codemirror_mode": {
    "name": "ipython",
    "version": 3
   },
   "file_extension": ".py",
   "mimetype": "text/x-python",
   "name": "python",
   "nbconvert_exporter": "python",
   "pygments_lexer": "ipython3",
   "version": "3.9.13"
  }
 },
 "nbformat": 4,
 "nbformat_minor": 5
}
